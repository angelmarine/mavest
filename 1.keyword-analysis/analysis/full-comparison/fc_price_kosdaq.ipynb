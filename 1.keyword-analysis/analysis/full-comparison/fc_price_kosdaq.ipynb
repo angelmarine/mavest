{
 "cells": [
  {
   "cell_type": "code",
   "execution_count": 1,
   "metadata": {},
   "outputs": [],
   "source": [
    "# Import Modules\n",
    "import os\n",
    "import warnings\n",
    "warnings.simplefilter(\"ignore\", UserWarning)\n",
    "\n",
    "import pandas as pd\n",
    "import seaborn as sns\n",
    "import matplotlib.pyplot as plt\n",
    "import scipy.signal as ss\n",
    "import numpy as np"
   ]
  },
  {
   "cell_type": "code",
   "execution_count": 2,
   "metadata": {},
   "outputs": [],
   "source": [
    "# Directories and files\n",
    "\n",
    "# Data Directories\n",
    "DATA_DIR = \"../../data/kosdaq/combined/\"  # Using kosdaq data"
   ]
  },
  {
   "cell_type": "code",
   "execution_count": 3,
   "metadata": {},
   "outputs": [],
   "source": [
    "# Load Data File List\n",
    "file_list = os.listdir(DATA_DIR)\n",
    "codes_list = [f[:-4] for f in file_list]"
   ]
  },
  {
   "cell_type": "code",
   "execution_count": 4,
   "metadata": {},
   "outputs": [
    {
     "data": {
      "text/plain": [
       "['000250', '000440', '001000', '001540', '001810']"
      ]
     },
     "execution_count": 4,
     "metadata": {},
     "output_type": "execute_result"
    }
   ],
   "source": [
    "codes_list[:5]"
   ]
  },
  {
   "cell_type": "markdown",
   "metadata": {},
   "source": [
    "## 1. Calculate Pearson Correlation"
   ]
  },
  {
   "cell_type": "code",
   "execution_count": 5,
   "metadata": {
    "scrolled": false
   },
   "outputs": [
    {
     "name": "stdout",
     "output_type": "stream",
     "text": [
      "158430.csv\n",
      "234690.csv\n",
      "330990.csv\n",
      "331380.csv\n"
     ]
    }
   ],
   "source": [
    "# Calculate Correlation Data\n",
    "\n",
    "correlation_list = []\n",
    "\n",
    "for file in file_list:\n",
    "    # Load File\n",
    "    filepath= DATA_DIR + file\n",
    "    df = pd.read_csv(filepath, index_col=0)\n",
    "    \n",
    "    if df.empty:\n",
    "        print(file)\n",
    "        continue\n",
    "        \n",
    "    # Scale\n",
    "    df -= df.min()\n",
    "    df /= df.max()\n",
    "    \n",
    "    # Calculate Pearson Correlation\n",
    "    correlation_value = df.corr().iloc[0,2]\n",
    "    correlation_list.append(correlation_value)"
   ]
  },
  {
   "cell_type": "code",
   "execution_count": 6,
   "metadata": {},
   "outputs": [],
   "source": [
    "# Convert To Dataframe\n",
    "pearson_df = pd.DataFrame(list(zip(codes_list,correlation_list)), columns=['code','corr'])\n",
    "pearson_df = pearson_df.dropna()"
   ]
  },
  {
   "cell_type": "code",
   "execution_count": 7,
   "metadata": {},
   "outputs": [
    {
     "data": {
      "image/png": "[encoded data removed]",
      "text/plain": [
       "<Figure size 432x288 with 1 Axes>"
      ]
     },
     "metadata": {
      "needs_background": "light"
     },
     "output_type": "display_data"
    }
   ],
   "source": [
    "# Draw Histogram\n",
    "plt.hist(pearson_df['corr'], 20)\n",
    "plt.show()"
   ]
  },
  {
   "cell_type": "code",
   "execution_count": 16,
   "metadata": {},
   "outputs": [
    {
     "data": {
      "image/png": "[encoded data removed]",
      "text/plain": [
       "<Figure size 216x360 with 1 Axes>"
      ]
     },
     "metadata": {
      "needs_background": "light"
     },
     "output_type": "display_data"
    }
   ],
   "source": [
    "# Draw Boxplot\n",
    "plt.subplots(1,1,figsize=(3,5))\n",
    "sns.set_style('whitegrid')\n",
    "sns.boxplot(pearson_df['corr'],color='red',orient='v')\n",
    "plt.tight_layout()"
   ]
  },
  {
   "cell_type": "code",
   "execution_count": 17,
   "metadata": {},
   "outputs": [
    {
     "name": "stdout",
     "output_type": "stream",
     "text": [
      "     code      corr\n",
      "0  000250  0.642033\n",
      "1  000440  0.494042\n",
      "2  001000  0.496340\n",
      "4  001810  0.552963\n",
      "5  001840  0.719365\n",
      "       code      corr\n",
      "12   003380 -0.463508\n",
      "41   008800 -0.620975\n",
      "102  019570 -0.644902\n",
      "125  023890 -0.482969\n",
      "174  031980 -0.495963\n"
     ]
    }
   ],
   "source": [
    "# See Outliers\n",
    "positive_outliers = pearson_df[pearson_df['corr'] > 0.4]\n",
    "print(positive_outliers.head())\n",
    "negative_outliers = pearson_df[pearson_df['corr'] < -0.4]\n",
    "print(negative_outliers.head())"
   ]
  },
  {
   "cell_type": "markdown",
   "metadata": {},
   "source": [
    "## 2. Normalized Cross Correlation With Time Shift"
   ]
  },
  {
   "cell_type": "code",
   "execution_count": 18,
   "metadata": {},
   "outputs": [],
   "source": [
    "# Function to calculate normalized cross correlation\n",
    "def ccf(x, y, lag_max = 100):\n",
    "    result = ss.correlate(y - np.mean(y), x - np.mean(x), method='direct') / (np.std(y) * np.std(x) * len(y))\n",
    "    length = (len(result) - 1) // 2\n",
    "    lo = length - lag_max\n",
    "    hi = length + (lag_max + 1)\n",
    "\n",
    "    return result[lo:hi]"
   ]
  },
  {
   "cell_type": "code",
   "execution_count": 20,
   "metadata": {},
   "outputs": [
    {
     "name": "stdout",
     "output_type": "stream",
     "text": [
      "158430.csv\n",
      "234690.csv\n",
      "330990.csv\n",
      "331380.csv\n"
     ]
    }
   ],
   "source": [
    "ncc_list = []\n",
    "lag_list = []\n",
    "lag = 10\n",
    "\n",
    "for file in file_list:\n",
    "    # Load File\n",
    "    filepath= DATA_DIR + file\n",
    "    df = pd.read_csv(filepath, index_col=0)\n",
    "    \n",
    "    if df.empty:\n",
    "        print(file)\n",
    "        continue\n",
    "    \n",
    "    # Scale\n",
    "    df -= df.min()\n",
    "    df /= df.max()\n",
    "\n",
    "    # Calculate Normalized Cross Correlation With Different Time Shift(Lag=10)\n",
    "    ncc = ccf(df['price'].values, df['ratio'].values, lag_max=lag)\n",
    "    \n",
    "    # Find index of max absolute correlation\n",
    "    max_idx = np.argmax(abs(ncc))\n",
    "    \n",
    "    # Find value of max absolute correlation\n",
    "    max_ncc = ncc[max_idx]\n",
    "    \n",
    "    # Find lag for max value\n",
    "    max_lag = max_idx - lag\n",
    "    \n",
    "    # print(file, max_ncc, max_lag)\n",
    "    ncc_list.append(max_ncc)\n",
    "    lag_list.append(max_lag)"
   ]
  },
  {
   "cell_type": "code",
   "execution_count": 21,
   "metadata": {},
   "outputs": [],
   "source": [
    "# Convert To Dataframe\n",
    "ncc_df = pd.DataFrame(list(zip(codes_list,ncc_list,lag_list)), columns=['code','ncc', 'lag'])\n",
    "ncc_df = ncc_df.dropna()"
   ]
  },
  {
   "cell_type": "code",
   "execution_count": 22,
   "metadata": {},
   "outputs": [
    {
     "data": {
      "image/png": "[encoded data removed]",
      "text/plain": [
       "<Figure size 432x288 with 1 Axes>"
      ]
     },
     "metadata": {},
     "output_type": "display_data"
    }
   ],
   "source": [
    "# Draw Histogram\n",
    "plt.hist(ncc_df['ncc'], 20)\n",
    "plt.show()"
   ]
  },
  {
   "cell_type": "code",
   "execution_count": 23,
   "metadata": {},
   "outputs": [
    {
     "data": {
      "image/png": "[encoded data removed]",
      "text/plain": [
       "<Figure size 216x360 with 1 Axes>"
      ]
     },
     "metadata": {},
     "output_type": "display_data"
    }
   ],
   "source": [
    "# Draw Boxplot\n",
    "plt.subplots(1,1, figsize=(3,5))\n",
    "sns.set_style('whitegrid')\n",
    "sns.boxplot(ncc_df['ncc'],color='red',orient='v')\n",
    "plt.tight_layout()"
   ]
  },
  {
   "cell_type": "code",
   "execution_count": 24,
   "metadata": {},
   "outputs": [
    {
     "name": "stdout",
     "output_type": "stream",
     "text": [
      "     code       ncc  lag\n",
      "0  000250  0.658900  -10\n",
      "1  000440  0.494042    0\n",
      "2  001000  0.496340    0\n",
      "4  001810  0.552963    0\n",
      "5  001840  0.719365    0\n",
      "       code       ncc  lag\n",
      "12   003380 -0.495944    4\n",
      "41   008800 -0.636183   10\n",
      "102  019570 -0.644902    0\n",
      "125  023890 -0.482969    0\n",
      "174  031980 -0.507735   -4\n"
     ]
    }
   ],
   "source": [
    "# See Outliers\n",
    "positive_outliers = ncc_df[ncc_df['ncc'] > 0.4]\n",
    "print(positive_outliers.head())\n",
    "negative_outliers = ncc_df[ncc_df['ncc'] < -0.4]\n",
    "print(negative_outliers.head())"
   ]
  },
  {
   "cell_type": "code",
   "execution_count": 25,
   "metadata": {},
   "outputs": [
    {
     "data": {
      "image/png": "[encoded data removed]",
      "text/plain": [
       "<Figure size 432x288 with 1 Axes>"
      ]
     },
     "metadata": {},
     "output_type": "display_data"
    }
   ],
   "source": [
    "plt.hist(ncc_df['lag'], 20)\n",
    "plt.show()"
   ]
  },
  {
   "cell_type": "markdown",
   "metadata": {},
   "source": [
    "## 3. Normalized Cross Correlation With Time Shift (Using Percentage Changes)"
   ]
  },
  {
   "cell_type": "code",
   "execution_count": 32,
   "metadata": {},
   "outputs": [
    {
     "name": "stdout",
     "output_type": "stream",
     "text": [
      "158430.csv\n",
      "234690.csv\n",
      "330990.csv\n",
      "331380.csv\n"
     ]
    }
   ],
   "source": [
    "ncc_pct_list = []\n",
    "lag_pct_list = []\n",
    "lag = 10\n",
    "\n",
    "for file in file_list:\n",
    "    # Load File\n",
    "    filepath= DATA_DIR + file\n",
    "    df = pd.read_csv(filepath, index_col=0)\n",
    "    \n",
    "    if df.empty:\n",
    "        print(file)\n",
    "        continue\n",
    "    \n",
    "    df = df.pct_change()\n",
    "    df = df.replace([np.inf, -np.inf], np.nan)\n",
    "    df = df.dropna()\n",
    "    df = df.abs()\n",
    "\n",
    "    # Calculate Normalized Cross Correlation With Different Time Shift(Lag=10)\n",
    "    try:\n",
    "        ncc = ccf(df['price'].values, df['ratio'].values,lag_max=lag)\n",
    "    except ValueError:\n",
    "        continue\n",
    "        \n",
    "    # Find max index\n",
    "    max_idx = np.argmax(abs(ncc))\n",
    "    # Find max correlation\n",
    "    max_ncc = ncc[max_idx]\n",
    "    # Find max lag\n",
    "    max_lag = max_idx - lag\n",
    "    \n",
    "    # print(file, max_ncc, max_lag)\n",
    "    ncc_pct_list.append(max_ncc)\n",
    "    lag_pct_list.append(max_lag)"
   ]
  },
  {
   "cell_type": "code",
   "execution_count": 33,
   "metadata": {},
   "outputs": [],
   "source": [
    "# Convert To Dataframe\n",
    "pct_df = pd.DataFrame(list(zip(codes_list,ncc_pct_list,lag_pct_list)), columns=['code','ncc', 'lag'])\n",
    "pct_df = pct_df.dropna()"
   ]
  },
  {
   "cell_type": "code",
   "execution_count": 34,
   "metadata": {},
   "outputs": [
    {
     "data": {
      "image/png": "[encoded data removed]",
      "text/plain": [
       "<Figure size 432x288 with 1 Axes>"
      ]
     },
     "metadata": {},
     "output_type": "display_data"
    }
   ],
   "source": [
    "# Draw Histogram\n",
    "plt.hist(pct_df['ncc'], 20)\n",
    "plt.show()"
   ]
  },
  {
   "cell_type": "code",
   "execution_count": 35,
   "metadata": {},
   "outputs": [
    {
     "data": {
      "image/png": "[encoded data removed]",
      "text/plain": [
       "<Figure size 216x360 with 1 Axes>"
      ]
     },
     "metadata": {},
     "output_type": "display_data"
    }
   ],
   "source": [
    "# Draw Boxplot\n",
    "plt.subplots(1,1, figsize=(3,5))\n",
    "sns.set_style('whitegrid')\n",
    "sns.boxplot(pct_df['ncc'],color='red',orient='v')\n",
    "plt.tight_layout()"
   ]
  },
  {
   "cell_type": "code",
   "execution_count": 36,
   "metadata": {},
   "outputs": [
    {
     "name": "stdout",
     "output_type": "stream",
     "text": [
      "     code       ncc  lag\n",
      "0  000250  0.601822    0\n",
      "1  000440  0.501978    0\n",
      "2  001000  0.602056    0\n",
      "5  001840  0.547136    0\n",
      "7  002290  0.469234    0\n",
      "        code       ncc  lag\n",
      "649   078890 -0.986932   -8\n",
      "1197  242040 -0.920230   -8\n",
      "1329  318000 -0.727324  -10\n"
     ]
    }
   ],
   "source": [
    "# See Outliers\n",
    "# print(df['corr'])\n",
    "positive_outliers = pct_df[pct_df['ncc'] > 0.4]\n",
    "print(positive_outliers.head())\n",
    "negative_outliers = pct_df[pct_df['ncc'] < -0.4]\n",
    "print(negative_outliers.head())"
   ]
  }
 ],
 "metadata": {
  "kernelspec": {
   "display_name": "Python 3",
   "language": "python",
   "name": "python3"
  },
  "language_info": {
   "codemirror_mode": {
    "name": "ipython",
    "version": 3
   },
   "file_extension": ".py",
   "mimetype": "text/x-python",
   "name": "python",
   "nbconvert_exporter": "python",
   "pygments_lexer": "ipython3",
   "version": "3.7.3"
  },
  "pycharm": {
   "stem_cell": {
    "cell_type": "raw",
    "metadata": {
     "collapsed": false
    },
    "source": []
   }
  }
 },
 "nbformat": 4,
 "nbformat_minor": 2
}
