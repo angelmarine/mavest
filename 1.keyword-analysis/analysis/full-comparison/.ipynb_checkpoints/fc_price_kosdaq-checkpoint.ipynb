{
 "cells": [
  {
   "cell_type": "code",
   "execution_count": 13,
   "metadata": {},
   "outputs": [],
   "source": [
    "# Import Modules\n",
    "import os\n",
    "import warnings\n",
    "warnings.simplefilter(\"ignore\", UserWarning)\n",
    "\n",
    "import pandas as pd\n",
    "import seaborn as sns\n",
    "import matplotlib.pyplot as plt\n",
    "import scipy.signal as ss\n",
    "import numpy as np"
   ]
  },
  {
   "cell_type": "code",
   "execution_count": 14,
   "metadata": {},
   "outputs": [],
   "source": [
    "# Directories and files\n",
    "\n",
    "# Data Directories\n",
    "DATA_DIR = \"../../data/kospi/combined/\"  # Using kospi data"
   ]
  },
  {
   "cell_type": "code",
   "execution_count": 15,
   "metadata": {},
   "outputs": [],
   "source": [
    "# Load Data File List\n",
    "file_list = os.listdir(DATA_DIR)\n",
    "noisy = ['000050','000180','001070', '001800', '001940', '002220', '002410', '002840', '002870', '002900', '003080', '003090', '003410',\n",
    "         '003610', '003850', '004410', '004990', '005300', '005720', '005740', '005930', '010100', '010660', '012030', '013360', '013520',\n",
    "          '013700', '014280', '014530', '017810', '018880', '023450', '027410', '035420', '044450', '095570', '104700', '107590', '138250',\n",
    "          '144620', '161000', '204320', '284740']\n",
    "\n",
    "file_list = [f for f in file_list if f[:-4] not in noisy]\n",
    "codes_list = [f[:-4] for f in file_list if f[:-4] not in noisy]"
   ]
  },
  {
   "cell_type": "code",
   "execution_count": 16,
   "metadata": {},
   "outputs": [
    {
     "data": {
      "text/plain": [
       "['000020', '000040', '000060', '000070', '000080']"
      ]
     },
     "execution_count": 16,
     "metadata": {},
     "output_type": "execute_result"
    }
   ],
   "source": [
    "codes_list[:5]"
   ]
  },
  {
   "cell_type": "markdown",
   "metadata": {},
   "source": [
    "## 1. Calculate Pearson Correlation"
   ]
  },
  {
   "cell_type": "code",
   "execution_count": 17,
   "metadata": {
    "scrolled": false
   },
   "outputs": [],
   "source": [
    "# Calculate Correlation Data\n",
    "\n",
    "correlation_list = []\n",
    "\n",
    "for file in file_list:\n",
    "    # Load File\n",
    "    filepath= DATA_DIR + file\n",
    "    df = pd.read_csv(filepath, index_col=0)\n",
    "    \n",
    "    # Scale\n",
    "    df -= df.min()\n",
    "    df /= df.max()\n",
    "    \n",
    "    # Calculate Pearson Correlation\n",
    "    correlation_value = df.corr().iloc[0,2]\n",
    "    correlation_list.append(correlation_value)"
   ]
  },
  {
   "cell_type": "code",
   "execution_count": 18,
   "metadata": {},
   "outputs": [],
   "source": [
    "# Convert To Dataframe\n",
    "pearson_df = pd.DataFrame(list(zip(codes_list,correlation_list)), columns=['code','corr'])\n",
    "pearson_df = pearson_df.dropna()"
   ]
  },
  {
   "cell_type": "code",
   "execution_count": 19,
   "metadata": {},
   "outputs": [
    {
     "data": {
      "image/png": "[encoded data removed]",
      "text/plain": [
       "<Figure size 432x288 with 1 Axes>"
      ]
     },
     "metadata": {
      "needs_background": "light"
     },
     "output_type": "display_data"
    }
   ],
   "source": [
    "# Draw Histogram\n",
    "plt.hist(pearson_df['corr'], 20)\n",
    "plt.show()"
   ]
  },
  {
   "cell_type": "code",
   "execution_count": 20,
   "metadata": {},
   "outputs": [
    {
     "data": {
      "image/png": "[encoded data removed]",
      "text/plain": [
       "<Figure size 216x360 with 1 Axes>"
      ]
     },
     "metadata": {
      "needs_background": "light"
     },
     "output_type": "display_data"
    }
   ],
   "source": [
    "# Draw Boxplot\n",
    "plt.subplots(1,1,figsize=(3,5))\n",
    "sns.set_style('whitegrid')\n",
    "sns.boxplot(pearson_df['corr'],color='red',orient='v')\n",
    "plt.tight_layout()"
   ]
  },
  {
   "cell_type": "code",
   "execution_count": 21,
   "metadata": {},
   "outputs": [
    {
     "name": "stdout",
     "output_type": "stream",
     "text": [
      "      code      corr\n",
      "17  000390  0.568950\n",
      "26  000640  0.448537\n",
      "43  001020  0.749137\n",
      "44  001040  0.624480\n",
      "63  001440  0.549139\n",
      "      code      corr\n",
      "12  000240 -0.540548\n",
      "21  000490 -0.481003\n",
      "23  000520 -0.592299\n",
      "40  000950 -0.466558\n",
      "71  001550 -0.488896\n"
     ]
    }
   ],
   "source": [
    "# See Outliers\n",
    "positive_outliers = pearson_df[pearson_df['corr'] > 0.4]\n",
    "print(positive_outliers.head())\n",
    "negative_outliers = pearson_df[pearson_df['corr'] < -0.4]\n",
    "print(negative_outliers.head())"
   ]
  },
  {
   "cell_type": "markdown",
   "metadata": {},
   "source": [
    "## 2. Normalized Cross Correlation With Time Shift"
   ]
  },
  {
   "cell_type": "code",
   "execution_count": 23,
   "metadata": {},
   "outputs": [],
   "source": [
    "# Function to calculate normalized cross correlation\n",
    "def ccf(x, y, lag_max = 100):\n",
    "    result = ss.correlate(y - np.mean(y), x - np.mean(x), method='direct') / (np.std(y) * np.std(x) * len(y))\n",
    "    length = (len(result) - 1) // 2\n",
    "    lo = length - lag_max\n",
    "    hi = length + (lag_max + 1)\n",
    "\n",
    "    return result[lo:hi]"
   ]
  },
  {
   "cell_type": "code",
   "execution_count": 24,
   "metadata": {},
   "outputs": [],
   "source": [
    "ncc_list = []\n",
    "lag_list = []\n",
    "lag = 10\n",
    "\n",
    "for file in file_list:\n",
    "    # Load File\n",
    "    filepath= DATA_DIR + file\n",
    "    df = pd.read_csv(filepath, index_col=0)\n",
    "    \n",
    "    # Scale\n",
    "    df -= df.min()\n",
    "    df /= df.max()\n",
    "\n",
    "    # Calculate Normalized Cross Correlation With Different Time Shift(Lag=10)\n",
    "    ncc = ccf(df['price'].values, df['ratio'].values, lag_max=lag)\n",
    "    \n",
    "    # Find index of max absolute correlation\n",
    "    max_idx = np.argmax(abs(ncc))\n",
    "    \n",
    "    # Find value of max absolute correlation\n",
    "    max_ncc = ncc[max_idx]\n",
    "    \n",
    "    # Find lag for max value\n",
    "    max_lag = max_idx - lag\n",
    "    \n",
    "    # print(file, max_ncc, max_lag)\n",
    "    ncc_list.append(max_ncc)\n",
    "    lag_list.append(max_lag)"
   ]
  },
  {
   "cell_type": "code",
   "execution_count": 25,
   "metadata": {},
   "outputs": [],
   "source": [
    "# Convert To Dataframe\n",
    "ncc_df = pd.DataFrame(list(zip(codes_list,ncc_list,lag_list)), columns=['code','ncc', 'lag'])\n",
    "ncc_df = ncc_df.dropna()"
   ]
  },
  {
   "cell_type": "code",
   "execution_count": 26,
   "metadata": {},
   "outputs": [
    {
     "data": {
      "image/png": "[encoded data removed]",
      "text/plain": [
       "<Figure size 432x288 with 1 Axes>"
      ]
     },
     "metadata": {},
     "output_type": "display_data"
    }
   ],
   "source": [
    "# Draw Histogram\n",
    "plt.hist(ncc_df['ncc'], 20)\n",
    "plt.show()"
   ]
  },
  {
   "cell_type": "code",
   "execution_count": 27,
   "metadata": {},
   "outputs": [
    {
     "data": {
      "image/png": "[encoded data removed]",
      "text/plain": [
       "<Figure size 216x360 with 1 Axes>"
      ]
     },
     "metadata": {},
     "output_type": "display_data"
    }
   ],
   "source": [
    "# Draw Boxplot\n",
    "plt.subplots(1,1, figsize=(3,5))\n",
    "sns.set_style('whitegrid')\n",
    "sns.boxplot(ncc_df['ncc'],color='red',orient='v')\n",
    "plt.tight_layout()"
   ]
  },
  {
   "cell_type": "code",
   "execution_count": 28,
   "metadata": {},
   "outputs": [
    {
     "name": "stdout",
     "output_type": "stream",
     "text": [
      "      code       ncc  lag\n",
      "17  000390  0.580236    6\n",
      "25  000590  0.413058   -2\n",
      "26  000640  0.449102   10\n",
      "43  001020  0.749402   -1\n",
      "44  001040  0.624480    0\n",
      "      code       ncc  lag\n",
      "12  000240 -0.572101  -10\n",
      "21  000490 -0.517961   -9\n",
      "23  000520 -0.599089    8\n",
      "40  000950 -0.467710    8\n",
      "71  001550 -0.508788  -10\n"
     ]
    }
   ],
   "source": [
    "# See Outliers\n",
    "positive_outliers = ncc_df[ncc_df['ncc'] > 0.4]\n",
    "print(positive_outliers.head())\n",
    "negative_outliers = ncc_df[ncc_df['ncc'] < -0.4]\n",
    "print(negative_outliers.head())"
   ]
  },
  {
   "cell_type": "code",
   "execution_count": 29,
   "metadata": {},
   "outputs": [
    {
     "data": {
      "image/png": "[encoded data removed]",
      "text/plain": [
       "<Figure size 432x288 with 1 Axes>"
      ]
     },
     "metadata": {},
     "output_type": "display_data"
    }
   ],
   "source": [
    "plt.hist(ncc_df['lag'], 20)\n",
    "plt.show()"
   ]
  },
  {
   "cell_type": "markdown",
   "metadata": {},
   "source": [
    "## 3. Normalized Cross Correlation With Time Shift (Using Percentage Changes)"
   ]
  },
  {
   "cell_type": "code",
   "execution_count": 30,
   "metadata": {},
   "outputs": [],
   "source": [
    "ncc_pct_list = []\n",
    "lag_pct_list = []\n",
    "lag = 10\n",
    "\n",
    "for file in file_list:\n",
    "    # Load File\n",
    "    filepath= DATA_DIR + file\n",
    "    df = pd.read_csv(filepath, index_col=0)\n",
    "    df = df.pct_change()\n",
    "    df = df.replace([np.inf, -np.inf], np.nan)\n",
    "    df = df.dropna()\n",
    "    df = df.abs()\n",
    "    \n",
    "    # Calculate Normalized Cross Correlation With Different Time Shift(Lag=10)\n",
    "    ncc = ccf(df['price'].values, df['ratio'].values,lag_max=lag)\n",
    "    \n",
    "    # Find max index\n",
    "    max_idx = np.argmax(abs(ncc))\n",
    "    # Find max correlation\n",
    "    max_ncc = ncc[max_idx]\n",
    "    # Find max lag\n",
    "    max_lag = max_idx - lag\n",
    "    \n",
    "    # print(file, max_ncc, max_lag)\n",
    "    ncc_pct_list.append(max_ncc)\n",
    "    lag_pct_list.append(max_lag)"
   ]
  },
  {
   "cell_type": "code",
   "execution_count": 31,
   "metadata": {},
   "outputs": [],
   "source": [
    "# Convert To Dataframe\n",
    "pct_df = pd.DataFrame(list(zip(codes_list,ncc_pct_list,lag_pct_list)), columns=['code','ncc', 'lag'])\n",
    "pct_df = pct_df.dropna()"
   ]
  },
  {
   "cell_type": "code",
   "execution_count": 32,
   "metadata": {},
   "outputs": [
    {
     "data": {
      "image/png": "[encoded data removed]",
      "text/plain": [
       "<Figure size 432x288 with 1 Axes>"
      ]
     },
     "metadata": {},
     "output_type": "display_data"
    }
   ],
   "source": [
    "# Draw Histogram\n",
    "plt.hist(pct_df['ncc'], 20)\n",
    "plt.show()"
   ]
  },
  {
   "cell_type": "code",
   "execution_count": 33,
   "metadata": {},
   "outputs": [
    {
     "data": {
      "image/png": "[encoded data removed]",
      "text/plain": [
       "<Figure size 216x360 with 1 Axes>"
      ]
     },
     "metadata": {},
     "output_type": "display_data"
    }
   ],
   "source": [
    "# Draw Boxplot\n",
    "plt.subplots(1,1, figsize=(3,5))\n",
    "sns.set_style('whitegrid')\n",
    "sns.boxplot(pct_df['ncc'],color='red',orient='v')\n",
    "plt.tight_layout()"
   ]
  },
  {
   "cell_type": "code",
   "execution_count": 34,
   "metadata": {},
   "outputs": [
    {
     "name": "stdout",
     "output_type": "stream",
     "text": [
      "       code       ncc  lag\n",
      "104  002450  0.403880   -8\n",
      "194  005010  0.490613    3\n",
      "542  068270  0.896534    9\n",
      "596  090080  0.416095    0\n",
      "630  103130  0.675686    2\n",
      "Empty DataFrame\n",
      "Columns: [code, ncc, lag]\n",
      "Index: []\n"
     ]
    }
   ],
   "source": [
    "# See Outliers\n",
    "# print(df['corr'])\n",
    "positive_outliers = pct_df[pct_df['ncc'] > 0.4]\n",
    "print(positive_outliers.head())\n",
    "negative_outliers = pct_df[pct_df['ncc'] < -0.4]\n",
    "print(negative_outliers.head())"
   ]
  }
 ],
 "metadata": {
  "kernelspec": {
   "display_name": "Python 3",
   "language": "python",
   "name": "python3"
  },
  "language_info": {
   "codemirror_mode": {
    "name": "ipython",
    "version": 3
   },
   "file_extension": ".py",
   "mimetype": "text/x-python",
   "name": "python",
   "nbconvert_exporter": "python",
   "pygments_lexer": "ipython3",
   "version": "3.7.3"
  },
  "pycharm": {
   "stem_cell": {
    "cell_type": "raw",
    "metadata": {
     "collapsed": false
    },
    "source": []
   }
  }
 },
 "nbformat": 4,
 "nbformat_minor": 2
}
