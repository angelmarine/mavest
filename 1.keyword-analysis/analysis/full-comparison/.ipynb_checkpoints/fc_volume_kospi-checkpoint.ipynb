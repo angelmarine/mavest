{
 "cells": [
  {
   "cell_type": "code",
   "execution_count": 8,
   "metadata": {},
   "outputs": [],
   "source": [
    "# Import Modules\n",
    "import os\n",
    "import warnings\n",
    "warnings.simplefilter(\"ignore\", UserWarning)\n",
    "\n",
    "import pandas as pd\n",
    "import seaborn as sns\n",
    "import matplotlib.pyplot as plt\n",
    "import scipy.signal as ss\n",
    "import numpy as np"
   ]
  },
  {
   "cell_type": "code",
   "execution_count": 9,
   "metadata": {},
   "outputs": [],
   "source": [
    "# Directories and files\n",
    "\n",
    "# Data Directories\n",
    "DATA_DIR = \"../../data/kospi/combined/\"  # Using kospi data"
   ]
  },
  {
   "cell_type": "code",
   "execution_count": 10,
   "metadata": {},
   "outputs": [],
   "source": [
    "# Load Data File List\n",
    "file_list = os.listdir(DATA_DIR)\n",
    "codes_list = [f[:-4] for f in file_list]"
   ]
  },
  {
   "cell_type": "code",
   "execution_count": 11,
   "metadata": {},
   "outputs": [
    {
     "data": {
      "text/plain": [
       "['000020', '000040', '000050', '000060', '000070']"
      ]
     },
     "execution_count": 11,
     "metadata": {},
     "output_type": "execute_result"
    }
   ],
   "source": [
    "codes_list[:5]"
   ]
  },
  {
   "cell_type": "markdown",
   "metadata": {},
   "source": [
    "## 1. Calculate Pearson Correlation"
   ]
  },
  {
   "cell_type": "code",
   "execution_count": 12,
   "metadata": {
    "scrolled": false
   },
   "outputs": [],
   "source": [
    "# Calculate Correlation Data\n",
    "\n",
    "correlation_list = []\n",
    "\n",
    "for file in file_list:\n",
    "    # Load File\n",
    "    filepath= DATA_DIR + file\n",
    "    df = pd.read_csv(filepath, index_col=0)\n",
    "    \n",
    "    if df.empty:\n",
    "        print(file)\n",
    "        continue\n",
    "        \n",
    "    # Scale\n",
    "    df -= df.min()\n",
    "    df /= df.max()\n",
    "    \n",
    "    # Calculate Pearson Correlation\n",
    "    correlation_value = df.corr().iloc[1,2]\n",
    "    correlation_list.append(correlation_value)"
   ]
  },
  {
   "cell_type": "code",
   "execution_count": 13,
   "metadata": {},
   "outputs": [],
   "source": [
    "# Convert To Dataframe\n",
    "pearson_df = pd.DataFrame(list(zip(codes_list,correlation_list)), columns=['code','corr'])\n",
    "pearson_df = pearson_df.dropna()"
   ]
  },
  {
   "cell_type": "code",
   "execution_count": 14,
   "metadata": {},
   "outputs": [
    {
     "data": {
      "image/png": "[encoded data removed]",
      "text/plain": [
       "<Figure size 432x288 with 1 Axes>"
      ]
     },
     "metadata": {
      "needs_background": "light"
     },
     "output_type": "display_data"
    }
   ],
   "source": [
    "# Draw Histogram\n",
    "plt.hist(pearson_df['corr'], 20)\n",
    "plt.show()"
   ]
  },
  {
   "cell_type": "code",
   "execution_count": 15,
   "metadata": {},
   "outputs": [
    {
     "data": {
      "image/png": "[encoded data removed]",
      "text/plain": [
       "<Figure size 216x360 with 1 Axes>"
      ]
     },
     "metadata": {
      "needs_background": "light"
     },
     "output_type": "display_data"
    }
   ],
   "source": [
    "# Draw Boxplot\n",
    "plt.subplots(1,1,figsize=(3,5))\n",
    "sns.set_style('whitegrid')\n",
    "sns.boxplot(pearson_df['corr'],color='red',orient='v')\n",
    "plt.tight_layout()"
   ]
  },
  {
   "cell_type": "code",
   "execution_count": 16,
   "metadata": {},
   "outputs": [
    {
     "name": "stdout",
     "output_type": "stream",
     "text": [
      "       code      corr\n",
      "631  090080  0.467423\n",
      "731  192400  0.403158\n",
      "776  298000  0.750657\n",
      "777  298020  0.970003\n",
      "783  307950  0.677137\n",
      "Empty DataFrame\n",
      "Columns: [code, corr]\n",
      "Index: []\n"
     ]
    }
   ],
   "source": [
    "# See Outliers\n",
    "positive_outliers = pearson_df[pearson_df['corr'] > 0.4]\n",
    "print(positive_outliers.head())\n",
    "negative_outliers = pearson_df[pearson_df['corr'] < -0.4]\n",
    "print(negative_outliers.head())"
   ]
  },
  {
   "cell_type": "markdown",
   "metadata": {},
   "source": [
    "## 2. Normalized Cross Correlation With Time Shift"
   ]
  },
  {
   "cell_type": "code",
   "execution_count": 17,
   "metadata": {},
   "outputs": [],
   "source": [
    "# Function to calculate normalized cross correlation\n",
    "def ccf(x, y, lag_max = 100):\n",
    "    result = ss.correlate(y - np.mean(y), x - np.mean(x), method='direct') / (np.std(y) * np.std(x) * len(y))\n",
    "    length = (len(result) - 1) // 2\n",
    "    lo = length - lag_max\n",
    "    hi = length + (lag_max + 1)\n",
    "\n",
    "    return result[lo:hi]"
   ]
  },
  {
   "cell_type": "code",
   "execution_count": 18,
   "metadata": {},
   "outputs": [],
   "source": [
    "ncc_list = []\n",
    "lag_list = []\n",
    "lag = 10\n",
    "\n",
    "for file in file_list:\n",
    "    # Load File\n",
    "    filepath= DATA_DIR + file\n",
    "    df = pd.read_csv(filepath, index_col=0)\n",
    "    \n",
    "    # Scale\n",
    "    df -= df.min()\n",
    "    df /= df.max()\n",
    "\n",
    "    # Calculate Normalized Cross Correlation With Different Time Shift(Lag=10)\n",
    "    ncc = ccf(df['volume'].values, df['ratio'].values, lag_max=lag)\n",
    "    \n",
    "    # Find index of max absolute correlation\n",
    "    max_idx = np.argmax(abs(ncc))\n",
    "    \n",
    "    # Find value of max absolute correlation\n",
    "    max_ncc = ncc[max_idx]\n",
    "    \n",
    "    # Find lag for max value\n",
    "    max_lag = max_idx - lag\n",
    "    \n",
    "    # print(file, max_ncc, max_lag)\n",
    "    ncc_list.append(max_ncc)\n",
    "    lag_list.append(max_lag)"
   ]
  },
  {
   "cell_type": "code",
   "execution_count": 19,
   "metadata": {},
   "outputs": [],
   "source": [
    "# Convert To Dataframe\n",
    "ncc_df = pd.DataFrame(list(zip(codes_list,ncc_list,lag_list)), columns=['code','ncc', 'lag'])\n",
    "ncc_df = ncc_df.dropna()"
   ]
  },
  {
   "cell_type": "code",
   "execution_count": 20,
   "metadata": {},
   "outputs": [
    {
     "data": {
      "image/png": "[encoded data removed]",
      "text/plain": [
       "<Figure size 432x288 with 1 Axes>"
      ]
     },
     "metadata": {},
     "output_type": "display_data"
    }
   ],
   "source": [
    "# Draw Histogram\n",
    "plt.hist(ncc_df['ncc'], 20)\n",
    "plt.show()"
   ]
  },
  {
   "cell_type": "code",
   "execution_count": 21,
   "metadata": {},
   "outputs": [
    {
     "data": {
      "image/png": "[encoded data removed]",
      "text/plain": [
       "<Figure size 216x360 with 1 Axes>"
      ]
     },
     "metadata": {},
     "output_type": "display_data"
    }
   ],
   "source": [
    "# Draw Boxplot\n",
    "plt.subplots(1,1, figsize=(3,5))\n",
    "sns.set_style('whitegrid')\n",
    "sns.boxplot(ncc_df['ncc'],color='red',orient='v')\n",
    "plt.tight_layout()"
   ]
  },
  {
   "cell_type": "code",
   "execution_count": 22,
   "metadata": {},
   "outputs": [
    {
     "name": "stdout",
     "output_type": "stream",
     "text": [
      "       code       ncc  lag\n",
      "111  002450  0.542758   -8\n",
      "193  004540  0.495216   -4\n",
      "194  004560  0.433763   -4\n",
      "203  004870  0.508861   -5\n",
      "211  005010  0.740556    3\n",
      "Empty DataFrame\n",
      "Columns: [code, ncc, lag]\n",
      "Index: []\n"
     ]
    }
   ],
   "source": [
    "# See Outliers\n",
    "positive_outliers = ncc_df[ncc_df['ncc'] > 0.4]\n",
    "print(positive_outliers.head())\n",
    "negative_outliers = ncc_df[ncc_df['ncc'] < -0.4]\n",
    "print(negative_outliers.head())"
   ]
  },
  {
   "cell_type": "code",
   "execution_count": 23,
   "metadata": {},
   "outputs": [
    {
     "data": {
      "image/png": "[encoded data removed]",
      "text/plain": [
       "<Figure size 432x288 with 1 Axes>"
      ]
     },
     "metadata": {},
     "output_type": "display_data"
    }
   ],
   "source": [
    "plt.hist(ncc_df['lag'], 20)\n",
    "plt.show()"
   ]
  },
  {
   "cell_type": "markdown",
   "metadata": {},
   "source": [
    "## 3. Normalized Cross Correlation With Time Shift (Using Percentage Changes)"
   ]
  },
  {
   "cell_type": "code",
   "execution_count": 24,
   "metadata": {},
   "outputs": [],
   "source": [
    "ncc_pct_list = []\n",
    "lag_pct_list = []\n",
    "lag = 10\n",
    "\n",
    "for file in file_list:\n",
    "    # Load File\n",
    "    filepath= DATA_DIR + file\n",
    "    df = pd.read_csv(filepath, index_col=0)\n",
    "    df = df.pct_change()\n",
    "    df = df.replace([np.inf, -np.inf], np.nan)\n",
    "    df = df.dropna()\n",
    "    df = df.abs()\n",
    "    \n",
    "    # Calculate Normalized Cross Correlation With Different Time Shift(Lag=10)\n",
    "    ncc = ccf(df['volume'].values, df['ratio'].values,lag_max=lag)\n",
    "    \n",
    "    # Find max index\n",
    "    max_idx = np.argmax(abs(ncc))\n",
    "    # Find max correlation\n",
    "    max_ncc = ncc[max_idx]\n",
    "    # Find max lag\n",
    "    max_lag = max_idx - lag\n",
    "    \n",
    "    # print(file, max_ncc, max_lag)\n",
    "    ncc_pct_list.append(max_ncc)\n",
    "    lag_pct_list.append(max_lag)"
   ]
  },
  {
   "cell_type": "code",
   "execution_count": 25,
   "metadata": {},
   "outputs": [],
   "source": [
    "# Convert To Dataframe\n",
    "pct_df = pd.DataFrame(list(zip(codes_list,ncc_pct_list,lag_pct_list)), columns=['code','ncc', 'lag'])\n",
    "pct_df = pct_df.dropna()"
   ]
  },
  {
   "cell_type": "code",
   "execution_count": 26,
   "metadata": {},
   "outputs": [
    {
     "data": {
      "image/png": "[encoded data removed]",
      "text/plain": [
       "<Figure size 432x288 with 1 Axes>"
      ]
     },
     "metadata": {},
     "output_type": "display_data"
    }
   ],
   "source": [
    "# Draw Histogram\n",
    "plt.hist(pct_df['ncc'], 20)\n",
    "plt.show()"
   ]
  },
  {
   "cell_type": "code",
   "execution_count": 27,
   "metadata": {},
   "outputs": [
    {
     "data": {
      "image/png": "[encoded data removed]",
      "text/plain": [
       "<Figure size 216x360 with 1 Axes>"
      ]
     },
     "metadata": {},
     "output_type": "display_data"
    }
   ],
   "source": [
    "# Draw Boxplot\n",
    "plt.subplots(1,1, figsize=(3,5))\n",
    "sns.set_style('whitegrid')\n",
    "sns.boxplot(pct_df['ncc'],color='red',orient='v')\n",
    "plt.tight_layout()"
   ]
  },
  {
   "cell_type": "code",
   "execution_count": 28,
   "metadata": {},
   "outputs": [
    {
     "name": "stdout",
     "output_type": "stream",
     "text": [
      "       code       ncc  lag\n",
      "98   002210  0.637765   -1\n",
      "168  003830  0.458878    3\n",
      "201  004830  0.428024    9\n",
      "212  005030  0.562890    0\n",
      "260  006490  0.550573  -10\n",
      "Empty DataFrame\n",
      "Columns: [code, ncc, lag]\n",
      "Index: []\n"
     ]
    }
   ],
   "source": [
    "# See Outliers\n",
    "# print(df['corr'])\n",
    "positive_outliers = pct_df[pct_df['ncc'] > 0.4]\n",
    "print(positive_outliers.head())\n",
    "negative_outliers = pct_df[pct_df['ncc'] < -0.4]\n",
    "print(negative_outliers.head())"
   ]
  },
  {
   "cell_type": "code",
   "execution_count": null,
   "metadata": {},
   "outputs": [],
   "source": []
  }
 ],
 "metadata": {
  "kernelspec": {
   "display_name": "Python 3",
   "language": "python",
   "name": "python3"
  },
  "language_info": {
   "codemirror_mode": {
    "name": "ipython",
    "version": 3
   },
   "file_extension": ".py",
   "mimetype": "text/x-python",
   "name": "python",
   "nbconvert_exporter": "python",
   "pygments_lexer": "ipython3",
   "version": "3.7.3"
  },
  "pycharm": {
   "stem_cell": {
    "cell_type": "raw",
    "metadata": {
     "collapsed": false
    },
    "source": []
   }
  }
 },
 "nbformat": 4,
 "nbformat_minor": 2
}
